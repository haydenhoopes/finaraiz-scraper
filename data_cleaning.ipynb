{
 "cells": [
  {
   "cell_type": "markdown",
   "id": "abe01f60-1c71-4e33-8d9a-e30d9bf4ea49",
   "metadata": {},
   "source": [
    "# Real Data Cleaning\n",
    "This is the latest file April 24 where I merged the two data sets."
   ]
  },
  {
   "cell_type": "code",
   "execution_count": 485,
   "id": "a70aee46-e509-482f-837a-2ce877c17518",
   "metadata": {},
   "outputs": [],
   "source": [
    "import pandas as pd\n",
    "import numpy as np\n",
    "\n",
    "df1 = pd.read_csv('finca_raiz_data.csv')\n",
    "df2 = pd.read_csv('finca_raiz_data_2.csv')"
   ]
  },
  {
   "cell_type": "code",
   "execution_count": 486,
   "id": "ddc115e5-7e43-4312-a952-ac180050d762",
   "metadata": {},
   "outputs": [
    {
     "data": {
      "text/plain": [
       "(1400, 27)"
      ]
     },
     "execution_count": 486,
     "metadata": {},
     "output_type": "execute_result"
    }
   ],
   "source": [
    "df = pd.concat([df1, df2], axis=0)\n",
    "df.shape"
   ]
  },
  {
   "cell_type": "markdown",
   "id": "d8a90c9d-cf26-4c9c-9291-25543094eba1",
   "metadata": {},
   "source": [
    "## Fix Características"
   ]
  },
  {
   "cell_type": "code",
   "execution_count": 487,
   "id": "488096d0-7022-49ae-8d27-6922ea468df3",
   "metadata": {},
   "outputs": [
    {
     "data": {
      "text/plain": [
       "0                                                     []\n",
       "1      [En conjunto cerrado, Garaje(s), Parqueadero V...\n",
       "2                                                     []\n",
       "3                                                     []\n",
       "4      [Circuito cerrado de TV, En conjunto cerrado, ...\n",
       "                             ...                        \n",
       "592    [Parqueadero Visitantes, Balcón, Cocina Integr...\n",
       "593    [Balcón, Piso en Baldosa /  Mármol, Colegios /...\n",
       "594    [Acceso Pavimentado, Vivienda Bifamiliar, Baño...\n",
       "595    [Acceso Pavimentado, Árboles frutales, Canchas...\n",
       "596    [Canchas Deportivas, Baño Auxiliar, Shut de ba...\n",
       "Name: Características, Length: 1400, dtype: object"
      ]
     },
     "execution_count": 487,
     "metadata": {},
     "output_type": "execute_result"
    }
   ],
   "source": [
    "df['Características'].fillna('[]').apply(eval)"
   ]
  },
  {
   "cell_type": "code",
   "execution_count": 488,
   "id": "b29a7149-fefe-49ca-82cf-84acf6ae1f26",
   "metadata": {},
   "outputs": [],
   "source": [
    "from sklearn.preprocessing import MultiLabelBinarizer\n",
    "\n",
    "df['Características'] = df['Características'].fillna('[]').apply(eval)\n",
    "\n",
    "mlb = MultiLabelBinarizer()\n",
    "mlb.fit(df['Características'])\n",
    "carac_df = pd.DataFrame(mlb.transform(df['Características']), columns=mlb.classes_)\n",
    "\n",
    "to_drop = []\n",
    "for i in carac_df.columns:\n",
    "    if 'hace' in i or '$' in i or i[0].isnumeric() or 'inmobili' in i.lower() or 'SAS' in i or 'GRUPO' in i or 'privada' in i.lower() or 'constru' in i.lower():\n",
    "        to_drop.append(i)\n",
    "carac_df = carac_df.drop(to_drop, axis=1)"
   ]
  },
  {
   "cell_type": "code",
   "execution_count": 489,
   "id": "b85ddf73-acae-416f-ac8a-78aba1dbe7f1",
   "metadata": {},
   "outputs": [],
   "source": [
    "to_drop = []\n",
    "for col in carac_df.columns:\n",
    "    if carac_df[col].value_counts(normalize=True).loc[0] > .6:\n",
    "        to_drop.append(col)\n",
    "        \n",
    "carac_df = carac_df.drop(to_drop, axis=1).reset_index()\n",
    "df = df.reset_index()"
   ]
  },
  {
   "cell_type": "code",
   "execution_count": 490,
   "id": "86669562-7319-4bdf-84a5-f6756ca2b647",
   "metadata": {},
   "outputs": [],
   "source": [
    "df.drop('Características', axis=1, inplace=True)\n",
    "df = pd.concat([df, carac_df], axis=1)"
   ]
  },
  {
   "cell_type": "code",
   "execution_count": 491,
   "id": "a74847b6-3773-4e33-9b40-ecfe5e12e6a8",
   "metadata": {},
   "outputs": [],
   "source": [
    "df = df.drop('index', axis=1)\n",
    "df = df.drop('Unnamed: 0', axis=1)"
   ]
  },
  {
   "cell_type": "code",
   "execution_count": 492,
   "id": "cfe5065b-549a-420e-a82e-42f9a7a772a9",
   "metadata": {},
   "outputs": [],
   "source": [
    "to_drop = []\n",
    "\n",
    "for row in df.isna().sum().index:\n",
    "    if df.isna().sum().loc[row] > 400:\n",
    "        to_drop.append(row)\n",
    "\n",
    "df = df.drop(to_drop, axis=1)"
   ]
  },
  {
   "cell_type": "code",
   "execution_count": 493,
   "id": "9e44ed83-681e-426c-92f1-b04e4595293d",
   "metadata": {},
   "outputs": [],
   "source": [
    "df = df.drop_duplicates(subset=['Enlace'])"
   ]
  },
  {
   "cell_type": "code",
   "execution_count": 494,
   "id": "28a800e5-db67-4fde-8d5f-968ebdbb037b",
   "metadata": {},
   "outputs": [],
   "source": [
    "df = df.drop('Acción', axis=1)"
   ]
  },
  {
   "cell_type": "code",
   "execution_count": 495,
   "id": "ac79147e-54e5-4b84-b2b6-b002c0427c20",
   "metadata": {},
   "outputs": [],
   "source": [
    "df['Antigüedad'] = df['Antigüedad'].apply(lambda x: 'M' + str(x) if not str(x)[0].isnumeric() else x)"
   ]
  },
  {
   "cell_type": "code",
   "execution_count": 496,
   "id": "4e6778c5-7bf2-4ea1-b401-05f12ff260e4",
   "metadata": {},
   "outputs": [],
   "source": [
    "df = df.drop('Departamento', axis=1)"
   ]
  },
  {
   "cell_type": "code",
   "execution_count": 497,
   "id": "60cd7c42-9016-42c8-a176-02fe63354ce4",
   "metadata": {},
   "outputs": [],
   "source": [
    "df = df.drop(['Anuncio publicado por:'], axis=1)"
   ]
  },
  {
   "cell_type": "code",
   "execution_count": 498,
   "id": "d16ec838-cdf3-4b35-a295-7386360669cc",
   "metadata": {},
   "outputs": [],
   "source": [
    "df['Precio m²'] = df['Precio m²'].str.extract('(.*),')"
   ]
  },
  {
   "cell_type": "code",
   "execution_count": 499,
   "id": "34425883-f8ef-438c-ab2f-9e9cbda74c9e",
   "metadata": {},
   "outputs": [
    {
     "name": "stderr",
     "output_type": "stream",
     "text": [
      "C:\\Users\\HaydenH\\AppData\\Local\\Temp\\ipykernel_15716\\197371727.py:1: FutureWarning: The default value of regex will change from True to False in a future version. In addition, single character regular expressions will *not* be treated as literal strings when regex=True.\n",
      "  df['Precio m²'] = df['Precio m²'].str.replace('.', '')\n"
     ]
    }
   ],
   "source": [
    "df['Precio m²'] = df['Precio m²'].str.replace('.', '')"
   ]
  },
  {
   "cell_type": "code",
   "execution_count": 500,
   "id": "b59864fe-4041-45b6-87b9-125acb555b2e",
   "metadata": {},
   "outputs": [
    {
     "name": "stderr",
     "output_type": "stream",
     "text": [
      "C:\\Users\\HaydenH\\AppData\\Local\\Temp\\ipykernel_15716\\237106218.py:1: FutureWarning: The default value of regex will change from True to False in a future version. In addition, single character regular expressions will *not* be treated as literal strings when regex=True.\n",
      "  df['Precio (COP)'] = df['Precio (COP)'].str.replace('.', '')\n"
     ]
    }
   ],
   "source": [
    "df['Precio (COP)'] = df['Precio (COP)'].str.replace('.', '')"
   ]
  },
  {
   "cell_type": "code",
   "execution_count": 501,
   "id": "cd478d0a-b006-4d66-8b1b-fa95bfab9ffe",
   "metadata": {},
   "outputs": [
    {
     "name": "stderr",
     "output_type": "stream",
     "text": [
      "C:\\Users\\HaydenH\\AppData\\Local\\Temp\\ipykernel_15716\\2464483055.py:1: FutureWarning: The default value of regex will change from True to False in a future version. In addition, single character regular expressions will *not* be treated as literal strings when regex=True.\n",
      "  df['Administración'] = df['Administración'].str.replace('.', '').str.replace(' COP', '')\n"
     ]
    }
   ],
   "source": [
    "df['Administración'] = df['Administración'].str.replace('.', '').str.replace(' COP', '')"
   ]
  },
  {
   "cell_type": "code",
   "execution_count": 502,
   "id": "14a52f9e-ccef-4999-b88d-cf108658c8e4",
   "metadata": {},
   "outputs": [],
   "source": [
    "pd.options.display.max_columns=None"
   ]
  },
  {
   "cell_type": "code",
   "execution_count": 503,
   "id": "89349a67-1cf0-492c-b221-d5cd7b3442b8",
   "metadata": {},
   "outputs": [],
   "source": [
    "# df = df.drop('Barrio', axis=1)"
   ]
  },
  {
   "cell_type": "code",
   "execution_count": 505,
   "id": "939278b8-a0ae-4f1f-9423-d4a07c159afe",
   "metadata": {},
   "outputs": [],
   "source": [
    "df = df.dropna()"
   ]
  },
  {
   "cell_type": "code",
   "execution_count": 506,
   "id": "091e1a46-5935-4648-9845-f6b14fba5dec",
   "metadata": {},
   "outputs": [],
   "source": [
    "df = df[~df['Habitaciones'].str.contains('digo', na=False)]\n",
    "df = df[~df['Baños'].str.contains('digo', na=False)]\n",
    "df['Área construída'] = df['Área construída'].str.replace(',', '.')\n",
    "df['Área privada'] = df['Área privada'].str.replace(',', '.')\n",
    "df = df[~df['Estrato'].str.contains('digo', na=False)]\n",
    "df = df[~df['Estrato'].str.contains('Campestr', na=False)]\n",
    "df['Administración'] = df['Administración'].replace('No definida', 0)\n",
    "df = df[~df['Administración'].str.contains('digo', na=False)]\n",
    "df = df[~df['No. Fotos'].str.contains('general', na=False)]\n"
   ]
  },
  {
   "cell_type": "code",
   "execution_count": 507,
   "id": "b11b8147-5bdc-4804-9562-ee4e4b3d2d82",
   "metadata": {},
   "outputs": [],
   "source": [
    "df['Habitaciones'] = df['Habitaciones'].astype('int16')\n",
    "df['Baños'] = df['Baños'].astype('int8')\n",
    "df['Área construída'] = df['Área construída'].astype('float32')\n",
    "df['Área privada'] = df['Área privada'].astype('float32')\n",
    "df['Estrato'] = df['Estrato'].astype('int8')\n",
    "df['Administración'] = df['Administración'].astype('int64')\n",
    "df['Precio m²'] = df['Precio m²'].astype('int64')\n",
    "df['Precio (COP)'] = df['Precio (COP)'].astype('int64')\n",
    "df['No. Fotos'] = df['No. Fotos'].astype('int64')"
   ]
  },
  {
   "cell_type": "code",
   "execution_count": 510,
   "id": "d6a07aeb-ff09-47c2-8091-31eb08a697c9",
   "metadata": {},
   "outputs": [],
   "source": [
    "df.to_pickle('colombia_real_estate.pkl')"
   ]
  }
 ],
 "metadata": {
  "kernelspec": {
   "display_name": "Python 3 (ipykernel)",
   "language": "python",
   "name": "python3"
  },
  "language_info": {
   "codemirror_mode": {
    "name": "ipython",
    "version": 3
   },
   "file_extension": ".py",
   "mimetype": "text/x-python",
   "name": "python",
   "nbconvert_exporter": "python",
   "pygments_lexer": "ipython3",
   "version": "3.10.6"
  }
 },
 "nbformat": 4,
 "nbformat_minor": 5
}
