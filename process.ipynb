{
 "cells": [
  {
   "cell_type": "code",
   "execution_count": 1,
   "id": "c92e4112-2c30-4fa2-a21c-1ddfe99c3201",
   "metadata": {},
   "outputs": [],
   "source": [
    "import pandas as pd\n",
    "import numpy as np\n",
    "pd.options.display.max_colwidth=200"
   ]
  },
  {
   "cell_type": "code",
   "execution_count": 39,
   "id": "2d656112-7523-4756-8a95-c2313a9c5db1",
   "metadata": {},
   "outputs": [],
   "source": [
    "df = pd.read_pickle('finca_raiz_data_2.pkl')"
   ]
  },
  {
   "cell_type": "code",
   "execution_count": 40,
   "id": "729117d2-452f-4e78-b892-5e578f2ea456",
   "metadata": {},
   "outputs": [
    {
     "name": "stdout",
     "output_type": "stream",
     "text": [
      "<class 'pandas.core.frame.DataFrame'>\n",
      "RangeIndex: 597 entries, 0 to 596\n",
      "Data columns (total 25 columns):\n",
      " #   Column               Non-Null Count  Dtype         \n",
      "---  ------               --------------  -----         \n",
      " 0   Tipo                 597 non-null    object        \n",
      " 1   Propiedad            597 non-null    object        \n",
      " 2   Acción               592 non-null    object        \n",
      " 3   Habitaciones         582 non-null    object        \n",
      " 4   Baños                583 non-null    object        \n",
      " 5   Parqueaderos         407 non-null    object        \n",
      " 6   Área construída      592 non-null    object        \n",
      " 7   Área privada         592 non-null    object        \n",
      " 8   Estrato              597 non-null    object        \n",
      " 9   Estado               157 non-null    object        \n",
      " 10  Piso N°              414 non-null    object        \n",
      " 11  Antigüedad           489 non-null    object        \n",
      " 12  Administración       592 non-null    object        \n",
      " 13  Precio m²            592 non-null    object        \n",
      " 14  Dirección            569 non-null    object        \n",
      " 15  Barrio               585 non-null    object        \n",
      " 16  Ciudad               597 non-null    object        \n",
      " 17  Departamento         440 non-null    object        \n",
      " 18  Características      468 non-null    object        \n",
      " 19  Precio (COP)         592 non-null    object        \n",
      " 20  Descripción general  597 non-null    object        \n",
      " 21  No. Fotos            597 non-null    object        \n",
      " 22  Fecha Sacada         597 non-null    datetime64[ns]\n",
      " 23  Fecha Publicada      0 non-null      object        \n",
      " 24  Enlace               597 non-null    object        \n",
      "dtypes: datetime64[ns](1), object(24)\n",
      "memory usage: 116.7+ KB\n"
     ]
    }
   ],
   "source": [
    "df.info()"
   ]
  },
  {
   "cell_type": "raw",
   "id": "3e53bf4e-c30c-4017-bb60-25392b64c4c5",
   "metadata": {},
   "source": [
    "df.iloc[6:13, 1:21]"
   ]
  },
  {
   "cell_type": "code",
   "execution_count": 41,
   "id": "49f2f137-3978-4a18-9d6f-e903a32a08e4",
   "metadata": {},
   "outputs": [],
   "source": [
    "df['Baños'] = df['Baños'].fillna('Finca')\n",
    "df.loc[df['Baños'].str.contains('Finca'), 'Baños'] = np.nan\n",
    "df['Baños'] = pd.to_numeric(df['Baños'], errors='coerce')"
   ]
  },
  {
   "cell_type": "code",
   "execution_count": 42,
   "id": "06bc49fb-da86-470f-ac30-075e9290d751",
   "metadata": {},
   "outputs": [
    {
     "data": {
      "text/plain": [
       "2.0    188\n",
       "3.0    121\n",
       "1.0    103\n",
       "4.0     71\n",
       "5.0     44\n",
       "6.0     16\n",
       "7.0     11\n",
       "9.0      3\n",
       "Name: Baños, dtype: int64"
      ]
     },
     "execution_count": 42,
     "metadata": {},
     "output_type": "execute_result"
    }
   ],
   "source": [
    "df['Baños'].value_counts()"
   ]
  },
  {
   "cell_type": "code",
   "execution_count": 43,
   "id": "df8ec8c4-04c4-453b-9c0a-69c40e8a0374",
   "metadata": {},
   "outputs": [],
   "source": [
    "df['Parqueaderos'] = df['Parqueaderos'].fillna('Finca')\n",
    "df.loc[df['Parqueaderos'].str.contains('Finca'), 'Parqueaderos'] = np.nan\n",
    "df['Parqueaderos'] = pd.to_numeric(df['Parqueaderos'], errors='coerce')"
   ]
  },
  {
   "cell_type": "code",
   "execution_count": 44,
   "id": "d7f6c84f-7369-4f5b-b831-e0bd45ad05e3",
   "metadata": {},
   "outputs": [
    {
     "data": {
      "text/plain": [
       "1.0     239\n",
       "2.0      94\n",
       "3.0      25\n",
       "4.0      22\n",
       "5.0      10\n",
       "6.0       5\n",
       "10.0      3\n",
       "8.0       1\n",
       "7.0       1\n",
       "9.0       1\n",
       "Name: Parqueaderos, dtype: int64"
      ]
     },
     "execution_count": 44,
     "metadata": {},
     "output_type": "execute_result"
    }
   ],
   "source": [
    "df['Parqueaderos'].value_counts()"
   ]
  },
  {
   "cell_type": "code",
   "execution_count": 45,
   "id": "001d7778-2292-41e0-8b8c-e017b46ef07b",
   "metadata": {},
   "outputs": [],
   "source": [
    "df['Área construída'] = pd.to_numeric(df['Área construída'], errors='coerce')"
   ]
  },
  {
   "cell_type": "code",
   "execution_count": 46,
   "id": "e6b5908a-e46f-4217-a088-55a279f80b92",
   "metadata": {},
   "outputs": [],
   "source": [
    "df['Área privada'] = pd.to_numeric(df['Área privada'], errors='coerce')"
   ]
  },
  {
   "cell_type": "code",
   "execution_count": 47,
   "id": "8725659e-22eb-438d-ada6-294ce2021019",
   "metadata": {},
   "outputs": [],
   "source": [
    "col = 'Estrato'\n",
    "\n",
    "df[col] = df[col].fillna(col)\n",
    "df.loc[~df[col].str.isnumeric(), col] = np.nan\n",
    "# df[col] = pd.to_numeric(df[col], errors='coerce')"
   ]
  },
  {
   "cell_type": "code",
   "execution_count": 48,
   "id": "28935201-f936-4c7d-962f-c0a0e68e45f1",
   "metadata": {},
   "outputs": [],
   "source": [
    "col = 'Administración'\n",
    "\n",
    "df.loc[(df[col] == 'No definida') | (df[col].str.contains('Finca')) | (df[col].str.contains('1 COP')), col] = '0'\n",
    "df.loc[df[col] == '740 COP', col] = '740.000'\n",
    "df.loc[df[col] == '320 COP', col] = '320.000'\n",
    "df.loc[df[col] == '136 COP', col] = '136.000'\n",
    "df.loc[df[col] == '209 COP', col] = '209.000'\n",
    "\n",
    "\n",
    "df[col] = pd.to_numeric(df[col].str.split('.\\d\\d\\d', regex=True).str[0])*1000\n",
    "# df[col] = pd.to_numeric(df[col], errors='coerce')"
   ]
  },
  {
   "cell_type": "code",
   "execution_count": 49,
   "id": "2137df66-f573-4e8f-a6be-ac3f7c918c85",
   "metadata": {},
   "outputs": [],
   "source": [
    "col = 'Piso N°'\n",
    "\n",
    "df[col] = df[col].fillna(col)\n",
    "df.loc[~df[col].str.isnumeric(), col] = np.nan\n",
    "df[col] = pd.to_numeric(df[col], errors='coerce')"
   ]
  },
  {
   "cell_type": "code",
   "execution_count": 50,
   "id": "e77e02d0-6df9-421f-b5b7-1f2313485f9f",
   "metadata": {},
   "outputs": [
    {
     "name": "stderr",
     "output_type": "stream",
     "text": [
      "C:\\Users\\HaydenH\\AppData\\Local\\Temp\\ipykernel_572\\427253956.py:1: FutureWarning: The default value of regex will change from True to False in a future version. In addition, single character regular expressions will *not* be treated as literal strings when regex=True.\n",
      "  df['Precio m²'] = df['Precio m²'].str.replace('.', '').str.replace(',', '.').astype('float64')\n"
     ]
    }
   ],
   "source": [
    "df['Precio m²'] = df['Precio m²'].str.replace('.', '').str.replace(',', '.').astype('float64')"
   ]
  },
  {
   "cell_type": "code",
   "execution_count": 51,
   "id": "cbfce00e-c675-4040-b709-7320026d5825",
   "metadata": {},
   "outputs": [],
   "source": [
    "df['Ciudad'] = df['Ciudad'].replace({'Santa marta': 'Santa Marta'})"
   ]
  },
  {
   "cell_type": "code",
   "execution_count": 53,
   "id": "4c7371fb-bdd2-446a-a0c4-90012a179ffc",
   "metadata": {},
   "outputs": [],
   "source": [
    "df['Características'] = df['Características'].fillna('[]')"
   ]
  },
  {
   "cell_type": "code",
   "execution_count": 71,
   "id": "1dcfe792-594b-4bfd-bc11-74db4b4af2d0",
   "metadata": {},
   "outputs": [],
   "source": [
    "from sklearn.preprocessing import MultiLabelBinarizer\n",
    "\n",
    "mlb = MultiLabelBinarizer()\n",
    "mlb.fit(df['Características'])\n",
    "df2 = pd.DataFrame(mlb.transform(df['Características']), columns=mlb.classes_)"
   ]
  },
  {
   "cell_type": "code",
   "execution_count": 72,
   "id": "b673eb30-2233-443d-b451-7cb038453b78",
   "metadata": {
    "tags": []
   },
   "outputs": [],
   "source": [
    "to_drop = []\n",
    "for i in df2.columns:\n",
    "    if 'hace' in i or '$' in i or i[0].isnumeric() or 'inmobili' in i.lower() or 'SAS' in i or 'GRUPO' in i or 'privada' in i.lower() or 'constru' in i.lower():\n",
    "        to_drop.append(i)"
   ]
  },
  {
   "cell_type": "code",
   "execution_count": 73,
   "id": "96a9aac5-467b-4768-b6f0-78509ca354c8",
   "metadata": {},
   "outputs": [],
   "source": [
    "df2 = df2.drop(columns=to_drop)"
   ]
  },
  {
   "cell_type": "code",
   "execution_count": 74,
   "id": "92358dd9-7ef6-443f-9aac-b43e96cf0375",
   "metadata": {},
   "outputs": [
    {
     "data": {
      "text/plain": [
       "205"
      ]
     },
     "execution_count": 74,
     "metadata": {},
     "output_type": "execute_result"
    }
   ],
   "source": [
    "to_drop = []\n",
    "for i in df2.columns:\n",
    "    if 'arrendam' in i.lower() or 'antigüe' in i.lower():\n",
    "        to_drop.append(i)\n",
    "\n",
    "df2 = df2.drop(columns=to_drop)\n",
    "len(df2.columns)"
   ]
  },
  {
   "cell_type": "code",
   "execution_count": 75,
   "id": "b8afcc25-02fc-4534-88e9-0ed9e0de3340",
   "metadata": {
    "collapsed": true,
    "jupyter": {
     "outputs_hidden": true
    },
    "tags": []
   },
   "outputs": [
    {
     "name": "stdin",
     "output_type": "stream",
     "text": [
      "Is Acceso Pavimentado a column you want? y/n   y\n",
      "Is Acceso para camiones a column you want? y/n   y\n",
      "Is Administración a column you want? y/n   n\n",
      "Is Administradora Kapital Ltda a column you want? y/n   n\n",
      "Is Aire Acondicionado a column you want? y/n   y\n",
      "Is Alarma a column you want? y/n   y\n",
      "Is Alarma Contra Incendio a column you want? y/n   y\n",
      "Is Alcantarillado a column you want? y/n   y\n",
      "Is Altura restringida a column you want? y/n   y\n",
      "Is Amoblado a column you want? y/n   y\n",
      "Is Anuncio publicado por: a column you want? y/n   n\n",
      "Is Araujo y Segovia a column you want? y/n   n\n",
      "Is Asador a column you want? y/n   y\n",
      "Is Ascensor a column you want? y/n   y\n",
      "Is Ascensores Comunales a column you want? y/n   y\n",
      "Is Asesorias Juridicas y Finca raiz a column you want? y/n   n\n",
      "Is Auditorio a column you want? y/n   y\n",
      "Is Bahias de parqueo a column you want? y/n   n\n",
      "Is Bahía exterior de parqueo a column you want? y/n   n\n",
      "Is Balcón a column you want? y/n   y\n",
      "Is Barra estilo americano a column you want? y/n   y\n",
      "Is Barrio a column you want? y/n   n\n",
      "Is Baño Auxiliar a column you want? y/n   y\n",
      "Is Baño Independiente a column you want? y/n   y\n",
      "Is Baño compartido a column you want? y/n   y\n",
      "Is Baños a column you want? y/n   y\n",
      "Is Baños Mixtos a column you want? y/n   y\n",
      "Is Baños Públicos a column you want? y/n   y\n",
      "Is Bienco S.A a column you want? y/n   n\n",
      "Is Bienes en Red a column you want? y/n   n\n",
      "Is Bogotá Real Estate a column you want? y/n   n\n",
      "Is Bombas de gasolina a column you want? y/n   y\n",
      "Is Bósque nativo a column you want? y/n   y\n",
      "Is CENTURY 21 DIAMANTE a column you want? y/n   n\n",
      "Is CONCEPTOS MODERNOS a column you want? y/n   n\n",
      "Is Cableado de Red a column you want? y/n   y\n",
      "Is Caldera a column you want? y/n   n\n",
      "Is Calentador a column you want? y/n   y\n",
      "Is Cancha de Baloncesto a column you want? y/n   y\n",
      "Is Cancha de Futbol a column you want? y/n   y\n",
      "Is Cancha de Squash a column you want? y/n   y\n",
      "Is Cancha de Tennis a column you want? y/n   y\n",
      "Is Canchas Deportivas a column you want? y/n   y\n",
      "Is Características a column you want? y/n   n\n",
      "Is Casa 360 a column you want? y/n   y\n",
      "Is Cava Home a column you want? y/n   n\n",
      "Is Centro De Santa Marta - Santa Marta a column you want? y/n   n\n",
      "Is Century 21 Premium a column you want? y/n   n\n",
      "Is Century 21 Radial a column you want? y/n   n\n",
      "Is Cerca a sector comercial a column you want? y/n   y\n",
      "Is Cerca de Zona Urbana a column you want? y/n   \n",
      "Is Chimenea a column you want? y/n   y\n",
      "Is Circuito cerrado de TV a column you want? y/n   y\n",
      "Is Citófono a column you want? y/n   y\n",
      "Is Closet a column you want? y/n   y\n",
      "Is Cochera a column you want? y/n   y\n",
      "Is Cocina Equipada a column you want? y/n   y\n",
      "Is Cocina Integral a column you want? y/n   y\n",
      "Is Cocina tipo Americano a column you want? y/n   y\n",
      "Is Cocineta a column you want? y/n   y\n",
      "Is Colegios / Universidades a column you want? y/n   y\n",
      "Is Comedor a column you want? y/n   y\n",
      "Is Comedor auxiliar a column you want? y/n   y\n",
      "Is Con Vivienda a column you want? y/n   \n",
      "Is Con administrador a column you want? y/n   \n",
      "Is Con casa club a column you want? y/n   \n",
      "Is Con cerca eléctrica a column you want? y/n   \n",
      "Is Consuelo Hernandez a column you want? y/n   \n",
      "Is Control de Acústica a column you want? y/n   \n",
      "Is Cuarto de Escoltas a column you want? y/n   \n",
      "Is Cuarto de Servicio a column you want? y/n   y\n",
      "Is Cuarto de conductores a column you want? y/n   y\n",
      "Is Cuarto de servicio a column you want? y/n   y\n",
      "Is Código Fincaraíz: 6589060 a column you want? y/n   \n",
      "Is Código Fincaraíz: 6589339 a column you want? y/n   \n",
      "Is Código Fincaraíz: 7905361 a column you want? y/n   \n",
      "Is Cómodas vias de acceso a column you want? y/n   y\n",
      "Is D.C COLOMBIA S.A.S. a column you want? y/n   \n",
      "Is Depósito / Bodega a column you want? y/n   \n",
      "Is Desde (COP) a column you want? y/n   \n",
      "Is Despensa a column you want? y/n   \n",
      "Is Dirección a column you want? y/n   \n",
      "Is Disponibilidad WiFi a column you want? y/n   y\n",
      "Is EDWARDS LOPEZ a column you want? y/n   \n",
      "Is EL CISNE - Santa Marta a column you want? y/n   \n",
      "Is Eliana Rodriguez a column you want? y/n   \n",
      "Is En Edificio a column you want? y/n   \n",
      "Is En casa a column you want? y/n   \n",
      "Is En condominio a column you want? y/n   y\n",
      "Is En conjunto cerrado a column you want? y/n   y\n",
      "Is En zona Comercial a column you want? y/n   y\n",
      "Is En zona residencial a column you want? y/n   y\n",
      "Is Encasa Real Estate a column you want? y/n   \n",
      "Is Engel & Volkers a column you want? y/n   \n",
      "Is Escalera de Emergencia a column you want? y/n   y\n",
      "Is Esquinero a column you want? y/n   y\n",
      "Is Estrato a column you want? y/n   \n",
      "Is Estudio a column you want? y/n   \n",
      "Is Facundo Y Asociados S.A.S a column you want? y/n   \n",
      "Is GMA a column you want? y/n   \n",
      "Is GRUGES a column you want? y/n   \n",
      "Is Galpón a column you want? y/n   \n",
      "Is Garaje / Parqueadero(s) a column you want? y/n   y\n",
      "Is Garaje Cubierto a column you want? y/n   y\n",
      "Is Garaje(s) a column you want? y/n   y\n",
      "Is Gimnasio a column you want? y/n   \n",
      "Is Grupo Empresarial Mi a column you want? y/n   \n",
      "Is Grupo Integra a column you want? y/n   \n",
      "Is HABITOP S.A.S. a column you want? y/n   \n",
      "Is Habitaciones a column you want? y/n   \n",
      "Is Hall de Alcobas a column you want? y/n   \n",
      "Is Imsa Ltda a column you want? y/n   \n",
      "Is In House Bienes Raices a column you want? y/n   \n",
      "Is Información legal a column you want? y/n   \n",
      "Is Instalación de gas a column you want? y/n   y\n",
      "Is JORGE  MURILLO a column you want? y/n   \n",
      "Is Jardines Exteriores a column you want? y/n   y\n",
      "Is Jardín a column you want? y/n   y\n",
      "Is Julio Corredor y Cia a column you want? y/n   \n",
      "Is Kiosko a column you want? y/n   \n",
      "Is La Lonja Propiedad Raíz a column you want? y/n   \n",
      "Is La clasificación del estrato es potestativo del municipio, el anunciante no puede comprometerse con una clasificación determinada del estrato el cual queda definido en el momento de recibo de la obra. a column you want? y/n   \n",
      "Is Leer más a column you want? y/n   \n",
      "Is Local Exterior a column you want? y/n   y\n",
      "Is Locales comerciales a column you want? y/n   y\n",
      "Is MMF Bienes Raices a column you want? y/n   \n",
      "Is Maria Luisa Socarras Bienes Raices a column you want? y/n   \n",
      "Is Mega Broker a column you want? y/n   \n",
      "Is Multigestión Ltda a column you want? y/n   \n",
      "Is Natalia Bedoya / Patricia Hoyos a column you want? y/n   \n",
      "Is No definida a column you want? y/n   \n",
      "Is Oficina de negocios a column you want? y/n   \n",
      "Is Oficinas administrativas a column you want? y/n   \n",
      "Is PRO BROKERS a column you want? y/n   \n",
      "Is Panorámica 360º a column you want? y/n   \n",
      "Is Panorámica un lado a column you want? y/n   \n",
      "Is Parqueadero Visitantes a column you want? y/n   \n",
      "Is Parqueadero a Nivel a column you want? y/n   y\n",
      "Is Parqueadero interno a column you want? y/n   y\n",
      "Is Parqueaderos a column you want? y/n   y\n",
      "Is Parques cercanos a column you want? y/n   y\n",
      "Is Patio a column you want? y/n   y\n",
      "Is Patio Interno a column you want? y/n   y\n",
      "Is Pesebrera a column you want? y/n   n\n",
      "Is Piscina a column you want? y/n   y\n",
      "Is Piso N° a column you want? y/n   \n",
      "Is Piso en Baldosa /  Mármol a column you want? y/n   y\n",
      "Is Piso en cemento a column you want? y/n   y\n",
      "Is Planta Eléctrica a column you want? y/n   y\n",
      "Is Portería / Recepción a column you want? y/n   y\n",
      "Is Portería / Vigilancia a column you want? y/n   y\n",
      "Is Pozo de agua natural a column you want? y/n   y\n",
      "Is Precio m² a column you want? y/n   \n",
      "Is Preguntar al anunciante a column you want? y/n   \n",
      "Is Puerta de seguridad a column you want? y/n   y\n",
      "Is Puerta eléctrica a column you want? y/n   y\n",
      "Is RDB INMUEBLES a column you want? y/n   \n",
      "Is REAL HOME BIENES RAICES S.A.S a column you want? y/n   \n",
      "Is RENWORK REALTY S.A.S a column you want? y/n   \n",
      "Is Real Living a column you want? y/n   \n",
      "Is Redinmuebles a column you want? y/n   \n",
      "Is Reja de Seguridad a column you want? y/n   y\n",
      "Is Reportar anuncio a column you want? y/n   \n",
      "Is Restaurantes a column you want? y/n   y\n",
      "Is Rio / Quebrada cercano(a) a column you want? y/n   \n",
      "Is Sala de internet a column you want? y/n   y\n",
      "Is Salón Comunal a column you want? y/n   y\n",
      "Is Salón de Juegos a column you want? y/n   y\n",
      "Is Salón de videoconferencias a column you want? y/n   y\n",
      "Is Santa Catalina - Santa Marta a column you want? y/n   \n",
      "Is Sauna / Turco / Jacuzzi a column you want? y/n   \n",
      "Is Seguridad a column you want? y/n   y\n",
      "Is Servicio de Internet a column you want? y/n   y\n",
      "Is Servicios Públicos a column you want? y/n   y\n",
      "Is Servicios independientes a column you want? y/n   y\n",
      "Is Shut de basura a column you want? y/n   y\n",
      "Is Sobre vía principal a column you want? y/n   y\n",
      "Is Sobre vía secundaria a column you want? y/n   y\n",
      "Is Supermercados / C.Comerciales a column you want? y/n   y\n",
      "Is Tanques de Agua a column you want? y/n   y\n",
      "Is Terraza a column you want? y/n   y\n",
      "Is Todos los Servicios a column you want? y/n   \n",
      "Is Trans. Público cercano a column you want? y/n   y\n",
      "Is Ubicación a column you want? y/n   \n",
      "Is Ubicada en edificio a column you want? y/n   \n",
      "Is Vasquez & Vasquez sas a column you want? y/n   \n",
      "Is Ventilación Natural a column you want? y/n   y\n",
      "Is Vigilancia a column you want? y/n   y\n",
      "Is Vigilancia 24x7 a column you want? y/n   y\n",
      "Is Villavo Vende a column you want? y/n   \n",
      "Is Vista panorámica a column you want? y/n   y\n",
      "Is Vivienda Bifamiliar a column you want? y/n   y\n",
      "Is Vivienda Multifamiliar a column you want? y/n   y\n",
      "Is Zona Campestre a column you want? y/n   y\n",
      "Is Zona Comercial a column you want? y/n   y\n",
      "Is Zona Industrial a column you want? y/n   y\n",
      "Is Zona Infantil a column you want? y/n   y\n",
      "Is Zona Residencial a column you want? y/n   y\n",
      "Is Zona de BBQ a column you want? y/n   y\n",
      "Is Zona de lavandería a column you want? y/n   y\n",
      "Is Zonas Verdes a column you want? y/n   y\n",
      "Is [ a column you want? y/n   \n",
      "Is ] a column you want? y/n   \n",
      "Is Árboles frutales a column you want? y/n   y\n",
      "Is Área Urbana a column you want? y/n   \n"
     ]
    }
   ],
   "source": [
    "to_drop = []\n",
    "for i in df2.columns:\n",
    "    u = input(f'Is {i} a column you want? y/n  ')\n",
    "    if u != 'y':\n",
    "        to_drop.append(i)"
   ]
  },
  {
   "cell_type": "code",
   "execution_count": 76,
   "id": "3b8c5b9e-3d0a-4ff1-a2a1-95b21c687d01",
   "metadata": {},
   "outputs": [],
   "source": [
    "df2 = df2.drop(columns=to_drop)"
   ]
  },
  {
   "cell_type": "code",
   "execution_count": 77,
   "id": "fab7f2d6-b276-4450-98e8-d78bc69f9b59",
   "metadata": {},
   "outputs": [],
   "source": [
    "df2 = df2.drop(columns=df2.sum()[df2.sum() < 100].index)"
   ]
  },
  {
   "cell_type": "code",
   "execution_count": 78,
   "id": "1fbb68dc-059b-44af-8c5f-e11603fd81f0",
   "metadata": {},
   "outputs": [],
   "source": [
    "df = pd.concat([df, df2], axis=1)"
   ]
  },
  {
   "cell_type": "code",
   "execution_count": 79,
   "id": "60154025-0a3e-42b5-bd77-f970e4d1245e",
   "metadata": {},
   "outputs": [
    {
     "name": "stderr",
     "output_type": "stream",
     "text": [
      "C:\\Users\\HaydenH\\AppData\\Local\\Temp\\ipykernel_572\\237106218.py:1: FutureWarning: The default value of regex will change from True to False in a future version. In addition, single character regular expressions will *not* be treated as literal strings when regex=True.\n",
      "  df['Precio (COP)'] = df['Precio (COP)'].str.replace('.', '')\n"
     ]
    }
   ],
   "source": [
    "df['Precio (COP)'] = df['Precio (COP)'].str.replace('.', '')"
   ]
  },
  {
   "cell_type": "raw",
   "id": "02fca2c0-3aa0-4846-9827-16876d8cc14e",
   "metadata": {},
   "source": [
    "df.drop(columns=['Fecha Publicada'], inplace=True)"
   ]
  },
  {
   "cell_type": "code",
   "execution_count": 83,
   "id": "534c8c41-8abf-489c-b1e6-e2fa5480a605",
   "metadata": {},
   "outputs": [],
   "source": [
    "df.to_csv('clean_data_2.csv')"
   ]
  },
  {
   "cell_type": "code",
   "execution_count": 84,
   "id": "36ce6ca0-87e9-462f-85dc-a3d49dee6ef0",
   "metadata": {},
   "outputs": [],
   "source": [
    "df.to_pickle('clean_data_2.pkl')"
   ]
  },
  {
   "cell_type": "code",
   "execution_count": null,
   "id": "05c18028-c54a-4d68-b2c9-3ee0e1c72e4a",
   "metadata": {},
   "outputs": [],
   "source": []
  }
 ],
 "metadata": {
  "kernelspec": {
   "display_name": "Python 3 (ipykernel)",
   "language": "python",
   "name": "python3"
  },
  "language_info": {
   "codemirror_mode": {
    "name": "ipython",
    "version": 3
   },
   "file_extension": ".py",
   "mimetype": "text/x-python",
   "name": "python",
   "nbconvert_exporter": "python",
   "pygments_lexer": "ipython3",
   "version": "3.10.6"
  }
 },
 "nbformat": 4,
 "nbformat_minor": 5
}
