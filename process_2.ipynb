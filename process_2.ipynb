{
 "cells": [
  {
   "cell_type": "code",
   "execution_count": 1,
   "id": "c1f1f41b-7209-4d94-92f7-788edf2d4f0b",
   "metadata": {},
   "outputs": [],
   "source": [
    "import pandas as pd\n",
    "import numpy as np\n",
    "import matplotlib.pyplot as plt\n",
    "\n",
    "df1 = pd.read_pickle('clean_data.pkl')\n",
    "df2 = pd.read_pickle('clean_data_2.pkl')"
   ]
  },
  {
   "cell_type": "code",
   "execution_count": 7,
   "id": "df87e64b-4823-4d69-b10e-e12d9b4e185d",
   "metadata": {},
   "outputs": [
    {
     "name": "stdout",
     "output_type": "stream",
     "text": [
      "<class 'pandas.core.frame.DataFrame'>\n",
      "RangeIndex: 803 entries, 0 to 802\n",
      "Data columns (total 48 columns):\n",
      " #   Column                    Non-Null Count  Dtype  \n",
      "---  ------                    --------------  -----  \n",
      " 0   Tipo                      803 non-null    object \n",
      " 1   Propiedad                 803 non-null    object \n",
      " 2   Acción                    789 non-null    object \n",
      " 3   Habitaciones              745 non-null    float64\n",
      " 4   Baños                     758 non-null    float64\n",
      " 5   Parqueaderos              541 non-null    float64\n",
      " 6   Área construída           771 non-null    float64\n",
      " 7   Área privada              776 non-null    float64\n",
      " 8   Estrato                   778 non-null    object \n",
      " 9   Estado                    220 non-null    object \n",
      " 10  Piso N°                   486 non-null    float64\n",
      " 11  Antigüedad                593 non-null    object \n",
      " 12  Administración            789 non-null    float64\n",
      " 13  Precio m²                 789 non-null    float64\n",
      " 14  Dirección                 765 non-null    object \n",
      " 15  Barrio                    798 non-null    object \n",
      " 16  Ciudad                    803 non-null    object \n",
      " 17  Departamento              759 non-null    object \n",
      " 18  Características           803 non-null    object \n",
      " 19  Precio (COP)              789 non-null    object \n",
      " 20  Descripción general       803 non-null    object \n",
      " 21  Código Fincaraíz          275 non-null    float64\n",
      " 22  No. Fotos                 803 non-null    object \n",
      " 23  Fecha Sacada              803 non-null    object \n",
      " 24  Enlace                    803 non-null    object \n",
      " 25  Acceso Pavimentado        803 non-null    int32  \n",
      " 26  Ascensor                  803 non-null    int32  \n",
      " 27  Balcón                    803 non-null    int32  \n",
      " 28  Barra estilo americano    803 non-null    int32  \n",
      " 29  Baño Auxiliar             803 non-null    int32  \n",
      " 30  Baño Independiente        803 non-null    int32  \n",
      " 31  Calentador                803 non-null    int32  \n",
      " 32  Canchas Deportivas        803 non-null    int32  \n",
      " 33  Circuito cerrado de TV    803 non-null    int32  \n",
      " 34  Citófono                  803 non-null    int32  \n",
      " 35  Closet                    803 non-null    int32  \n",
      " 36  Cocina Integral           803 non-null    int32  \n",
      " 37  Colegios / Universidades  803 non-null    int32  \n",
      " 38  En conjunto cerrado       803 non-null    int32  \n",
      " 39  Garaje / Parqueadero(s)   803 non-null    int32  \n",
      " 40  Garaje(s)                 803 non-null    int32  \n",
      " 41  Instalación de gas        803 non-null    int32  \n",
      " 42  Jardín                    803 non-null    int32  \n",
      " 43  Parqueadero Visitantes    803 non-null    int32  \n",
      " 44  Piscina                   803 non-null    int32  \n",
      " 45  Portería / Recepción      803 non-null    int32  \n",
      " 46  Trans. Público cercano    803 non-null    int32  \n",
      " 47  Zona de lavandería        803 non-null    int32  \n",
      "dtypes: float64(9), int32(23), object(16)\n",
      "memory usage: 229.1+ KB\n"
     ]
    }
   ],
   "source": [
    "df1.info()"
   ]
  },
  {
   "cell_type": "code",
   "execution_count": 9,
   "id": "d4164b51-da9f-42de-914c-3f615f6984d6",
   "metadata": {},
   "outputs": [],
   "source": [
    "df2.drop(columns=['[', ']'], inplace=True)"
   ]
  },
  {
   "cell_type": "code",
   "execution_count": 15,
   "id": "9f9e6b35-3bfd-443e-a266-a4e05e1d2826",
   "metadata": {},
   "outputs": [],
   "source": [
    "df1 = df1.loc[:, list(set(df1.columns).intersection(set(df2.columns)))]\n",
    "df2 = df1.loc[:, list(set(df1.columns).intersection(set(df2.columns)))]"
   ]
  },
  {
   "cell_type": "code",
   "execution_count": 17,
   "id": "636acf73-bf94-4be9-8a60-906102d1b780",
   "metadata": {},
   "outputs": [],
   "source": [
    "df = pd.concat([df1, df2], axis=0)"
   ]
  },
  {
   "cell_type": "code",
   "execution_count": 33,
   "id": "07e388e9-9268-4642-8875-52931008cac2",
   "metadata": {},
   "outputs": [
    {
     "name": "stdout",
     "output_type": "stream",
     "text": [
      "<class 'pandas.core.frame.DataFrame'>\n",
      "Int64Index: 1606 entries, 0 to 802\n",
      "Data columns (total 38 columns):\n",
      " #   Column                   Non-Null Count  Dtype  \n",
      "---  ------                   --------------  -----  \n",
      " 0   Instalación de gas       1606 non-null   int32  \n",
      " 1   Acción                   1606 non-null   object \n",
      " 2   Baño Auxiliar            1606 non-null   int32  \n",
      " 3   Baños                    1516 non-null   float64\n",
      " 4   Piso N°                  1606 non-null   float64\n",
      " 5   Fecha Sacada             1606 non-null   object \n",
      " 6   Precio m²                1578 non-null   float64\n",
      " 7   Parqueaderos             1082 non-null   float64\n",
      " 8   Parqueadero Visitantes   1606 non-null   int32  \n",
      " 9   Departamento             1518 non-null   object \n",
      " 10  Dirección                1530 non-null   object \n",
      " 11  Antigüedad               1186 non-null   object \n",
      " 12  Propiedad                1606 non-null   object \n",
      " 13  Administración           1578 non-null   float64\n",
      " 14  No. Fotos                1606 non-null   object \n",
      " 15  Ciudad                   1606 non-null   object \n",
      " 16  Características          1606 non-null   object \n",
      " 17  Acceso Pavimentado       1606 non-null   int32  \n",
      " 18  Ascensor                 1606 non-null   int32  \n",
      " 19  Garaje(s)                1606 non-null   int32  \n",
      " 20  Estado                   440 non-null    object \n",
      " 21  Estrato                  1556 non-null   object \n",
      " 22  Baño Independiente       1606 non-null   int32  \n",
      " 23  Garaje / Parqueadero(s)  1606 non-null   int32  \n",
      " 24  Barrio                   1596 non-null   object \n",
      " 25  Calentador               1606 non-null   int32  \n",
      " 26  Tipo                     1606 non-null   object \n",
      " 27  Balcón                   1606 non-null   int32  \n",
      " 28  En conjunto cerrado      1606 non-null   int32  \n",
      " 29  Precio (COP)             1578 non-null   object \n",
      " 30  Citófono                 1606 non-null   int32  \n",
      " 31  Enlace                   1606 non-null   object \n",
      " 32  Cocina Integral          1606 non-null   int32  \n",
      " 33  Área construída          1542 non-null   float64\n",
      " 34  Área privada             1552 non-null   float64\n",
      " 35  Descripción general      1606 non-null   object \n",
      " 36  Habitaciones             1490 non-null   float64\n",
      " 37  Closet                   1606 non-null   int32  \n",
      "dtypes: float64(8), int32(14), object(16)\n",
      "memory usage: 401.5+ KB\n"
     ]
    }
   ],
   "source": [
    "df.info()"
   ]
  },
  {
   "cell_type": "code",
   "execution_count": 39,
   "id": "f4b073aa-1ae3-4e1b-877e-0cfedf445236",
   "metadata": {},
   "outputs": [
    {
     "data": {
      "text/plain": [
       "60.0     42\n",
       "72.0     34\n",
       "90.0     32\n",
       "120.0    30\n",
       "55.0     28\n",
       "         ..\n",
       "259.0     2\n",
       "192.0     2\n",
       "124.0     2\n",
       "46.0      2\n",
       "51.0      2\n",
       "Name: Área construída, Length: 230, dtype: int64"
      ]
     },
     "execution_count": 39,
     "metadata": {},
     "output_type": "execute_result"
    }
   ],
   "source": [
    "df['Acción'] = df['Acción'].fillna('venta')\n",
    "df['Área construída'].value_counts()"
   ]
  },
  {
   "cell_type": "code",
   "execution_count": 43,
   "id": "23782e4d-09bd-4053-87da-414280ac2d2f",
   "metadata": {},
   "outputs": [],
   "source": [
    "cols_to_drop = ['Estado']\n",
    "final_df = df.drop(columns=cols_to_drop)"
   ]
  },
  {
   "cell_type": "code",
   "execution_count": 44,
   "id": "06f870b9-a680-47ab-ad28-6b13eef09d48",
   "metadata": {},
   "outputs": [
    {
     "data": {
      "text/plain": [
       "(722, 37)"
      ]
     },
     "execution_count": 44,
     "metadata": {},
     "output_type": "execute_result"
    }
   ],
   "source": [
    "final_df.dropna().shape"
   ]
  },
  {
   "cell_type": "code",
   "execution_count": 46,
   "id": "01113a4d-2ee5-41c4-a171-aba80db51215",
   "metadata": {},
   "outputs": [],
   "source": [
    "final_df.to_pickle('colombia_real_estate.pkl')"
   ]
  },
  {
   "cell_type": "code",
   "execution_count": null,
   "id": "911faba7-4cc2-43fc-b0ea-32a75ff44b51",
   "metadata": {},
   "outputs": [],
   "source": []
  }
 ],
 "metadata": {
  "kernelspec": {
   "display_name": "Python 3 (ipykernel)",
   "language": "python",
   "name": "python3"
  },
  "language_info": {
   "codemirror_mode": {
    "name": "ipython",
    "version": 3
   },
   "file_extension": ".py",
   "mimetype": "text/x-python",
   "name": "python",
   "nbconvert_exporter": "python",
   "pygments_lexer": "ipython3",
   "version": "3.10.6"
  }
 },
 "nbformat": 4,
 "nbformat_minor": 5
}
